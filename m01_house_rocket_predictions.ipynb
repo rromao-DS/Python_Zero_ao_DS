{
 "cells": [
  {
   "cell_type": "markdown",
   "metadata": {
    "heading_collapsed": true
   },
   "source": [
    "# 01 Imports"
   ]
  },
  {
   "cell_type": "code",
   "execution_count": 3,
   "metadata": {
    "ExecuteTime": {
     "end_time": "2022-07-25T13:35:15.511097Z",
     "start_time": "2022-07-25T13:35:04.116698Z"
    },
    "hidden": true
   },
   "outputs": [],
   "source": [
    "import pandas as pd\n",
    "import numpy as np"
   ]
  },
  {
   "cell_type": "markdown",
   "metadata": {
    "heading_collapsed": true
   },
   "source": [
    "# Loading DataFrame"
   ]
  },
  {
   "cell_type": "code",
   "execution_count": 4,
   "metadata": {
    "ExecuteTime": {
     "end_time": "2022-07-25T13:36:26.320929Z",
     "start_time": "2022-07-25T13:36:26.276787Z"
    },
    "hidden": true
   },
   "outputs": [],
   "source": [
    "data = pd.read_csv('/Users/rromao/Desktop/Repos/PZaoDS/kc_house_data.csv')\n"
   ]
  },
  {
   "cell_type": "markdown",
   "metadata": {},
   "source": [
    "# Aula 01 - "
   ]
  },
  {
   "cell_type": "markdown",
   "metadata": {
    "heading_collapsed": true
   },
   "source": [
    "### Quantas casas estão disponíveis para compra? "
   ]
  },
  {
   "cell_type": "code",
   "execution_count": 5,
   "metadata": {
    "ExecuteTime": {
     "end_time": "2022-07-25T13:36:43.589966Z",
     "start_time": "2022-07-25T13:36:43.584140Z"
    },
    "hidden": true,
    "hide_input": false,
    "scrolled": true
   },
   "outputs": [
    {
     "name": "stdout",
     "output_type": "stream",
     "text": [
      "Estão disponíveis para compra 21436 casas\n"
     ]
    }
   ],
   "source": [
    "houses = len(data['id'].unique()) \n",
    "# or \n",
    "len(data['id'].drop_duplicates())\n",
    "print('Estão disponíveis para compra {} casas'.format(houses))"
   ]
  },
  {
   "cell_type": "markdown",
   "metadata": {
    "heading_collapsed": true
   },
   "source": [
    "### Quantos atributos as casas possuem?\n",
    "### Coluna ID e Date nao sao Atributos da casas"
   ]
  },
  {
   "cell_type": "code",
   "execution_count": 6,
   "metadata": {
    "ExecuteTime": {
     "end_time": "2022-07-25T13:38:14.025198Z",
     "start_time": "2022-07-25T13:38:14.017712Z"
    },
    "hidden": true
   },
   "outputs": [
    {
     "name": "stdout",
     "output_type": "stream",
     "text": [
      "As casas possuem 19 atributos\n"
     ]
    }
   ],
   "source": [
    "attribute = len(data.drop(['id', 'date'], axis=1).columns)\n",
    "\n",
    "print('As casas possuem {} atributos'.format(attribute))"
   ]
  },
  {
   "cell_type": "markdown",
   "metadata": {
    "heading_collapsed": true
   },
   "source": [
    "### Quais são os atributos?"
   ]
  },
  {
   "cell_type": "code",
   "execution_count": 7,
   "metadata": {
    "ExecuteTime": {
     "end_time": "2022-07-25T13:38:28.155082Z",
     "start_time": "2022-07-25T13:38:28.152085Z"
    },
    "hidden": true
   },
   "outputs": [
    {
     "name": "stdout",
     "output_type": "stream",
     "text": [
      "['id', 'date', 'price', 'bedrooms', 'bathrooms', 'sqft_living', 'sqft_lot', 'floors', 'waterfront', 'view', 'condition', 'grade', 'sqft_above', 'sqft_basement', 'yr_built', 'yr_renovated', 'zipcode', 'lat', 'long', 'sqft_living15', 'sqft_lot15'] são os atributos das casas\n"
     ]
    }
   ],
   "source": [
    "columns = data.columns.tolist()\n",
    "\n",
    "print('{} são os atributos das casas'.format(columns))"
   ]
  },
  {
   "cell_type": "markdown",
   "metadata": {
    "heading_collapsed": true
   },
   "source": [
    "### Qual a casa mais cara do portfólio ( casa com maior valor)?\n"
   ]
  },
  {
   "cell_type": "code",
   "execution_count": 11,
   "metadata": {
    "ExecuteTime": {
     "end_time": "2022-07-25T13:41:55.289358Z",
     "start_time": "2022-07-25T13:41:55.277841Z"
    },
    "hidden": true
   },
   "outputs": [
    {
     "name": "stdout",
     "output_type": "stream",
     "text": [
      "A casa mais cara do portfólio é de ID 6762700020\n"
     ]
    }
   ],
   "source": [
    "exp_house = data[['id', 'price']].sort_values('price', ascending=False).reset_index(drop=True).loc[0,'id']\n",
    "print('A casa mais cara do portfólio é de ID {}'.format(exp_house))"
   ]
  },
  {
   "cell_type": "markdown",
   "metadata": {
    "heading_collapsed": true
   },
   "source": [
    "### Qual a casa com o maior número de quartos?"
   ]
  },
  {
   "cell_type": "code",
   "execution_count": null,
   "metadata": {
    "ExecuteTime": {
     "end_time": "2021-10-10T13:06:48.887795Z",
     "start_time": "2021-10-10T13:06:48.876786Z"
    },
    "hidden": true
   },
   "outputs": [],
   "source": [
    "bedrooms = data[['id', 'bedrooms']].sort_values('bedrooms', ascending=False).reset_index(drop=True).loc[0,'id']\n",
    "print('A casa com o maior número de quartos é o de ID {}'.format(bedrooms))"
   ]
  },
  {
   "cell_type": "markdown",
   "metadata": {
    "heading_collapsed": true
   },
   "source": [
    "### Qual a soma total de Quartos do conjunto de dados?"
   ]
  },
  {
   "cell_type": "code",
   "execution_count": null,
   "metadata": {
    "ExecuteTime": {
     "end_time": "2021-10-10T13:09:48.912467Z",
     "start_time": "2021-10-10T13:09:48.907103Z"
    },
    "hidden": true
   },
   "outputs": [],
   "source": [
    "num_bed = data['bedrooms'].sum()\n",
    "print('A soma total de quartos do conjunto de dados é {}'.format(num_bed))"
   ]
  },
  {
   "cell_type": "markdown",
   "metadata": {
    "heading_collapsed": true
   },
   "source": [
    "### Quantas casas possuem 2 banheiros?\n",
    "\n"
   ]
  },
  {
   "cell_type": "code",
   "execution_count": 12,
   "metadata": {
    "ExecuteTime": {
     "end_time": "2022-07-25T13:43:41.317896Z",
     "start_time": "2022-07-25T13:43:41.310529Z"
    },
    "hidden": true
   },
   "outputs": [
    {
     "name": "stdout",
     "output_type": "stream",
     "text": [
      "O número de casas que possuem dois banheiros é 1930\n"
     ]
    }
   ],
   "source": [
    "\n",
    "houses_2 = len(data.loc[data['bathrooms'] == 2, ['id', 'bathrooms']])\n",
    "print('O número de casas que possuem dois banheiros é {}'.format(houses_2))"
   ]
  },
  {
   "cell_type": "markdown",
   "metadata": {
    "heading_collapsed": true
   },
   "source": [
    "### Qual o preço médio de todas as casas no conjunto de dados?"
   ]
  },
  {
   "cell_type": "code",
   "execution_count": 13,
   "metadata": {
    "ExecuteTime": {
     "end_time": "2022-07-25T13:44:23.708915Z",
     "start_time": "2022-07-25T13:44:23.695890Z"
    },
    "hidden": true
   },
   "outputs": [
    {
     "data": {
      "text/plain": [
       "540088.14"
      ]
     },
     "execution_count": 13,
     "metadata": {},
     "output_type": "execute_result"
    }
   ],
   "source": [
    "np.round(data['price'].mean(), 2)"
   ]
  },
  {
   "cell_type": "markdown",
   "metadata": {
    "heading_collapsed": true
   },
   "source": [
    "### Qual o preço médio de casas com 2 banheiros?\n"
   ]
  },
  {
   "cell_type": "code",
   "execution_count": 14,
   "metadata": {
    "ExecuteTime": {
     "end_time": "2022-07-25T13:45:45.915157Z",
     "start_time": "2022-07-25T13:45:45.909657Z"
    },
    "hidden": true
   },
   "outputs": [
    {
     "data": {
      "text/plain": [
       "457889.72"
      ]
     },
     "execution_count": 14,
     "metadata": {},
     "output_type": "execute_result"
    }
   ],
   "source": [
    "np.round(data.loc[data['bathrooms'] == 2, 'price'].mean(),2)"
   ]
  },
  {
   "cell_type": "markdown",
   "metadata": {
    "heading_collapsed": true
   },
   "source": [
    "### Qual o preço minimo entre as casas com 3 quartos?"
   ]
  },
  {
   "cell_type": "code",
   "execution_count": 15,
   "metadata": {
    "ExecuteTime": {
     "end_time": "2022-07-25T13:46:23.951521Z",
     "start_time": "2022-07-25T13:46:23.945171Z"
    },
    "hidden": true
   },
   "outputs": [
    {
     "data": {
      "text/plain": [
       "82000.0"
      ]
     },
     "execution_count": 15,
     "metadata": {},
     "output_type": "execute_result"
    }
   ],
   "source": [
    "np.round(data.loc[data['bedrooms'] == 3, 'price'].min(), 2)"
   ]
  },
  {
   "cell_type": "markdown",
   "metadata": {
    "heading_collapsed": true
   },
   "source": [
    "### Quantas casas possuem mais de 300 metros quadrados de sala de estar?"
   ]
  },
  {
   "cell_type": "code",
   "execution_count": 18,
   "metadata": {
    "ExecuteTime": {
     "end_time": "2022-07-25T13:48:53.417090Z",
     "start_time": "2022-07-25T13:48:53.411996Z"
    },
    "hidden": true
   },
   "outputs": [
    {
     "name": "stdout",
     "output_type": "stream",
     "text": [
      "2258 casas possuem mais de 300 metros quadrados de sala de estar\n"
     ]
    }
   ],
   "source": [
    "data['m2'] = data['sqft_living'] *0.093\n",
    "\n",
    "qtd = len(data.loc[data['m2'] > 300, 'id'])\n",
    "\n",
    "print('{} casas possuem mais de 300 metros quadrados de sala de estar'.format(qtd))"
   ]
  },
  {
   "cell_type": "markdown",
   "metadata": {
    "heading_collapsed": true
   },
   "source": [
    "### Quantas casas tem mais de 2 andares?"
   ]
  },
  {
   "cell_type": "code",
   "execution_count": 19,
   "metadata": {
    "ExecuteTime": {
     "end_time": "2022-07-25T13:50:41.811887Z",
     "start_time": "2022-07-25T13:50:41.807387Z"
    },
    "hidden": true
   },
   "outputs": [
    {
     "name": "stdout",
     "output_type": "stream",
     "text": [
      "782 casas possuem mais de 2 andares\n"
     ]
    }
   ],
   "source": [
    "floors = len(data.loc[data['floors'] > 2, 'id'])\n",
    "print('{} casas possuem mais de 2 andares'.format(floors))"
   ]
  },
  {
   "cell_type": "markdown",
   "metadata": {
    "heading_collapsed": true
   },
   "source": [
    "### Quantas casas tem  vista para o mar?"
   ]
  },
  {
   "cell_type": "code",
   "execution_count": 22,
   "metadata": {
    "ExecuteTime": {
     "end_time": "2022-07-25T13:52:42.659616Z",
     "start_time": "2022-07-25T13:52:42.655564Z"
    },
    "hidden": true
   },
   "outputs": [
    {
     "name": "stdout",
     "output_type": "stream",
     "text": [
      "163 casas tem vista para o mar\n"
     ]
    }
   ],
   "source": [
    "waterfront = data.loc[data['waterfront'] == 1, 'id'].size\n",
    "print('{} casas tem vista para o mar'.format(waterfront))"
   ]
  },
  {
   "cell_type": "markdown",
   "metadata": {
    "heading_collapsed": true
   },
   "source": [
    "### Das casas com vista para o mar quantas casas tem 3 quartos?\n",
    "\n"
   ]
  },
  {
   "cell_type": "code",
   "execution_count": 24,
   "metadata": {
    "ExecuteTime": {
     "end_time": "2022-07-25T13:54:11.175071Z",
     "start_time": "2022-07-25T13:54:11.169189Z"
    },
    "hidden": true
   },
   "outputs": [
    {
     "name": "stdout",
     "output_type": "stream",
     "text": [
      "64 casas tem vista para o mar e 3 quartos\n"
     ]
    }
   ],
   "source": [
    "\n",
    "df1 = len(data.loc[(data['waterfront'] == 1) & (data['bedrooms'] == 3)])\n",
    "print('{} casas tem vista para o mar e 3 quartos'.format(df1))"
   ]
  },
  {
   "cell_type": "markdown",
   "metadata": {
    "heading_collapsed": true
   },
   "source": [
    "### Das casas com Mais de 300 metros quadrados de sala de estar, quantas tem mais de 2 banheiros \n"
   ]
  },
  {
   "cell_type": "code",
   "execution_count": 26,
   "metadata": {
    "ExecuteTime": {
     "end_time": "2022-07-25T14:00:41.859001Z",
     "start_time": "2022-07-25T14:00:41.853497Z"
    },
    "hidden": true
   },
   "outputs": [
    {
     "name": "stdout",
     "output_type": "stream",
     "text": [
      "2201 casas com mais de 300 m2 de sala de estar tem mais que dois banheiros\n"
     ]
    }
   ],
   "source": [
    "df2 = len(data.loc[(data['m2'] > 300) & (data['bathrooms'] > 2), 'id'])\n",
    "print('{} casas com mais de 300 m2 de sala de estar tem mais que dois banheiros'.format(df2))"
   ]
  }
 ],
 "metadata": {
  "hide_input": false,
  "kernelspec": {
   "display_name": "Python 3 (ipykernel)",
   "language": "python",
   "name": "python3"
  },
  "language_info": {
   "codemirror_mode": {
    "name": "ipython",
    "version": 3
   },
   "file_extension": ".py",
   "mimetype": "text/x-python",
   "name": "python",
   "nbconvert_exporter": "python",
   "pygments_lexer": "ipython3",
   "version": "3.10.4"
  },
  "varInspector": {
   "cols": {
    "lenName": 16,
    "lenType": 16,
    "lenVar": 40
   },
   "kernels_config": {
    "python": {
     "delete_cmd_postfix": "",
     "delete_cmd_prefix": "del ",
     "library": "var_list.py",
     "varRefreshCmd": "print(var_dic_list())"
    },
    "r": {
     "delete_cmd_postfix": ") ",
     "delete_cmd_prefix": "rm(",
     "library": "var_list.r",
     "varRefreshCmd": "cat(var_dic_list()) "
    }
   },
   "types_to_exclude": [
    "module",
    "function",
    "builtin_function_or_method",
    "instance",
    "_Feature"
   ],
   "window_display": false
  }
 },
 "nbformat": 4,
 "nbformat_minor": 4
}
